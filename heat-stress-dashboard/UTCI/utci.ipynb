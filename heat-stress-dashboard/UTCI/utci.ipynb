{
 "cells": [
  {
   "cell_type": "code",
   "execution_count": 4,
   "id": "a3882105",
   "metadata": {},
   "outputs": [
    {
     "name": "stdout",
     "output_type": "stream",
     "text": [
      "c:\\Users\\Gur Levy\\heinecan-4\\.venv\\Scripts\\python.exe\n"
     ]
    }
   ],
   "source": [
    "import sys\n",
    "print(sys.executable)\n"
   ]
  },
  {
   "cell_type": "code",
   "execution_count": 5,
   "id": "23dd0bda",
   "metadata": {},
   "outputs": [
    {
     "name": "stdout",
     "output_type": "stream",
     "text": [
      "Collecting requests\n",
      "  Using cached requests-2.32.3-py3-none-any.whl.metadata (4.6 kB)\n",
      "Collecting charset-normalizer<4,>=2 (from requests)\n",
      "  Downloading charset_normalizer-3.4.2-cp313-cp313-win_amd64.whl.metadata (36 kB)\n",
      "Collecting idna<4,>=2.5 (from requests)\n",
      "  Using cached idna-3.10-py3-none-any.whl.metadata (10 kB)\n",
      "Collecting urllib3<3,>=1.21.1 (from requests)\n",
      "  Using cached urllib3-2.4.0-py3-none-any.whl.metadata (6.5 kB)\n",
      "Collecting certifi>=2017.4.17 (from requests)\n",
      "  Downloading certifi-2025.4.26-py3-none-any.whl.metadata (2.5 kB)\n",
      "Using cached requests-2.32.3-py3-none-any.whl (64 kB)\n",
      "Downloading charset_normalizer-3.4.2-cp313-cp313-win_amd64.whl (105 kB)\n",
      "Using cached idna-3.10-py3-none-any.whl (70 kB)\n",
      "Using cached urllib3-2.4.0-py3-none-any.whl (128 kB)\n",
      "Downloading certifi-2025.4.26-py3-none-any.whl (159 kB)\n",
      "Installing collected packages: urllib3, idna, charset-normalizer, certifi, requests\n",
      "\n",
      "   ---------------------------------------- 0/5 [urllib3]\n",
      "   ---------------------------------------- 0/5 [urllib3]\n",
      "   ---------------------------------------- 0/5 [urllib3]\n",
      "   ---------------------------------------- 0/5 [urllib3]\n",
      "   ---------------------------------------- 0/5 [urllib3]\n",
      "   ---------------------------------------- 0/5 [urllib3]\n",
      "   -------- ------------------------------- 1/5 [idna]\n",
      "   -------- ------------------------------- 1/5 [idna]\n",
      "   -------- ------------------------------- 1/5 [idna]\n",
      "   ---------------- ----------------------- 2/5 [charset-normalizer]\n",
      "   ---------------- ----------------------- 2/5 [charset-normalizer]\n",
      "   ---------------- ----------------------- 2/5 [charset-normalizer]\n",
      "   ------------------------ --------------- 3/5 [certifi]\n",
      "   -------------------------------- ------- 4/5 [requests]\n",
      "   -------------------------------- ------- 4/5 [requests]\n",
      "   -------------------------------- ------- 4/5 [requests]\n",
      "   ---------------------------------------- 5/5 [requests]\n",
      "\n",
      "Successfully installed certifi-2025.4.26 charset-normalizer-3.4.2 idna-3.10 requests-2.32.3 urllib3-2.4.0\n"
     ]
    }
   ],
   "source": [
    "!pip install requests\n"
   ]
  },
  {
   "cell_type": "code",
   "execution_count": 6,
   "id": "bb0468a2",
   "metadata": {},
   "outputs": [],
   "source": [
    "import requests\n",
    "import csv\n",
    "from datetime import datetime, timedelta\n"
   ]
  },
  {
   "cell_type": "code",
   "execution_count": null,
   "id": "3f0505fa",
   "metadata": {},
   "outputs": [
    {
     "name": "stdout",
     "output_type": "stream",
     "text": [
      "file savedmonterrey_hourly_weathr.csv\n"
     ]
    },
    {
     "name": "stderr",
     "output_type": "stream",
     "text": [
      "C:\\Users\\Gur Levy\\AppData\\Local\\Temp\\ipykernel_16744\\880904700.py:20: DeprecationWarning: datetime.datetime.utcfromtimestamp() is deprecated and scheduled for removal in a future version. Use timezone-aware objects to represent datetimes in UTC: datetime.datetime.fromtimestamp(timestamp, datetime.UTC).\n",
      "  dt = datetime.utcfromtimestamp(entry['dt']) + timedelta(seconds=offset)\n"
     ]
    }
   ],
   "source": [
    "# api endpoint and params\n",
    "url = 'https://api.openweathermap.org/data/3.0/onecall'\n",
    "params = {\n",
    "    'lat': 25.686613,\n",
    "    'lon': -100.316116,\n",
    "    'exclude': 'current,minutely,daily,alerts',\n",
    "    'appid': 'd420319993e5906012bee411669261e0',\n",
    "    'units': 'metrics'\n",
    "}\n",
    "#api request\n",
    "response = requests.get(url, params = params)\n",
    "data = response.json()\n",
    "#timezone offset\n",
    "offset = data.get('timezone_offset', 0)\n",
    "#csv file\n",
    "csv_rows = []\n",
    "header = ['datetime', 'temp',  'feels_like', 'pressure', 'humidity', 'dew_point', 'uvi', 'clouds','wind_speed', 'wind_deg', 'weather_description']\n",
    "#changing to datetime\n",
    "for entry in data['hourly']:\n",
    "    dt = datetime.utcfromtimestamp(entry['dt']) + timedelta(seconds=offset)\n",
    "    weather_desc = entry['weather'][0]['description'] if entry.get('weather')else''\n",
    "    row = [\n",
    "        dt.strftime(\"%Y-%m-%d %H:%M:%S\"),\n",
    "        entry.get(\"temp\"),\n",
    "        entry.get(\"feels_like\"),\n",
    "        entry.get(\"pressure\"),\n",
    "        entry.get(\"humidity\"),\n",
    "        entry.get(\"dew_point\"),\n",
    "        entry.get(\"uvi\"),\n",
    "        entry.get(\"clouds\"),\n",
    "        entry.get(\"wind_speed\"),\n",
    "        entry.get(\"wind_deg\"),\n",
    "        weather_desc\n",
    "    ]\n",
    "    csv_rows.append(row)\n",
    "\n",
    "#csv save\n",
    "csv_file = 'monterrey_hourly_weathr.csv'\n",
    "with open(csv_file, 'w', newline='', encoding='utf-8') as f:\n",
    "    writer = csv.writer(f)\n",
    "    writer.writerow(header)\n",
    "    writer.writerows(csv_rows)\n",
    "\n",
    "print(f'file saved{csv_file}')\n"
   ]
  },
  {
   "cell_type": "code",
   "execution_count": null,
   "id": "94a47aaf",
   "metadata": {},
   "outputs": [],
   "source": []
  }
 ],
 "metadata": {
  "kernelspec": {
   "display_name": ".venv",
   "language": "python",
   "name": "python3"
  },
  "language_info": {
   "codemirror_mode": {
    "name": "ipython",
    "version": 3
   },
   "file_extension": ".py",
   "mimetype": "text/x-python",
   "name": "python",
   "nbconvert_exporter": "python",
   "pygments_lexer": "ipython3",
   "version": "3.13.2"
  }
 },
 "nbformat": 4,
 "nbformat_minor": 5
}
