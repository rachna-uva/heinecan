{
 "cells": [
  {
   "cell_type": "code",
   "execution_count": 1,
   "id": "a3882105",
   "metadata": {},
   "outputs": [
    {
     "name": "stdout",
     "output_type": "stream",
     "text": [
      "c:\\Users\\Gur Levy\\heinecan-4\\.venv\\Scripts\\python.exe\n"
     ]
    }
   ],
   "source": [
    "import sys\n",
    "print(sys.executable)\n"
   ]
  },
  {
   "cell_type": "code",
   "execution_count": 2,
   "id": "23dd0bda",
   "metadata": {},
   "outputs": [
    {
     "name": "stdout",
     "output_type": "stream",
     "text": [
      "Requirement already satisfied: requests in c:\\users\\gur levy\\heinecan-4\\.venv\\lib\\site-packages (2.32.3)\n",
      "Requirement already satisfied: charset-normalizer<4,>=2 in c:\\users\\gur levy\\heinecan-4\\.venv\\lib\\site-packages (from requests) (3.4.2)\n",
      "Requirement already satisfied: idna<4,>=2.5 in c:\\users\\gur levy\\heinecan-4\\.venv\\lib\\site-packages (from requests) (3.10)\n",
      "Requirement already satisfied: urllib3<3,>=1.21.1 in c:\\users\\gur levy\\heinecan-4\\.venv\\lib\\site-packages (from requests) (2.4.0)\n",
      "Requirement already satisfied: certifi>=2017.4.17 in c:\\users\\gur levy\\heinecan-4\\.venv\\lib\\site-packages (from requests) (2025.4.26)\n"
     ]
    }
   ],
   "source": [
    "!pip install requests\n"
   ]
  },
  {
   "cell_type": "code",
   "execution_count": 3,
   "id": "bb0468a2",
   "metadata": {},
   "outputs": [],
   "source": [
    "import requests\n",
    "import csv\n",
    "from datetime import datetime, timedelta\n"
   ]
  },
  {
   "cell_type": "code",
   "execution_count": 4,
   "id": "3f0505fa",
   "metadata": {},
   "outputs": [
    {
     "name": "stdout",
     "output_type": "stream",
     "text": [
      "file savedmonterrey_hourly_weather.csv\n"
     ]
    },
    {
     "name": "stderr",
     "output_type": "stream",
     "text": [
      "C:\\Users\\Gur Levy\\AppData\\Local\\Temp\\ipykernel_5068\\2351409520.py:20: DeprecationWarning: datetime.datetime.utcfromtimestamp() is deprecated and scheduled for removal in a future version. Use timezone-aware objects to represent datetimes in UTC: datetime.datetime.fromtimestamp(timestamp, datetime.UTC).\n",
      "  dt = datetime.utcfromtimestamp(entry['dt']) + timedelta(seconds=offset)\n"
     ]
    }
   ],
   "source": [
    "# api endpoint and params\n",
    "url = 'https://api.openweathermap.org/data/3.0/onecall'\n",
    "params = {\n",
    "    'lat': 25.686613,\n",
    "    'lon': -100.316116,\n",
    "    'exclude': 'current,minutely,daily,alerts',\n",
    "    'appid': 'd420319993e5906012bee411669261e0',\n",
    "    'units': 'metrics'\n",
    "}\n",
    "#api request\n",
    "response = requests.get(url, params = params)\n",
    "data = response.json()\n",
    "#timezone offset\n",
    "offset = data.get('timezone_offset', 0)\n",
    "#csv file\n",
    "csv_rows = []\n",
    "header = ['datetime', 'temp',  'feels_like', 'pressure', 'humidity', 'dew_point', 'uvi', 'clouds','wind_speed', 'wind_deg', 'weather_description']\n",
    "#changing to datetime\n",
    "for entry in data['hourly']:\n",
    "    dt = datetime.utcfromtimestamp(entry['dt']) + timedelta(seconds=offset)\n",
    "    weather_desc = entry['weather'][0]['description'] if entry.get('weather')else''\n",
    "    row = [\n",
    "        dt.strftime(\"%Y-%m-%d %H:%M:%S\"),\n",
    "        entry.get(\"temp\"),\n",
    "        entry.get(\"feels_like\"),\n",
    "        entry.get(\"pressure\"),\n",
    "        entry.get(\"humidity\"),\n",
    "        entry.get(\"dew_point\"),\n",
    "        entry.get(\"uvi\"),\n",
    "        entry.get(\"clouds\"),\n",
    "        entry.get(\"wind_speed\"),\n",
    "        entry.get(\"wind_deg\"),\n",
    "        weather_desc\n",
    "    ]\n",
    "    csv_rows.append(row)\n",
    "\n",
    "#csv save\n",
    "csv_file = 'monterrey_hourly_weather.csv'\n",
    "with open(csv_file, 'w', newline='', encoding='utf-8') as f:\n",
    "    writer = csv.writer(f)\n",
    "    writer.writerow(header)\n",
    "    writer.writerows(csv_rows)\n",
    "\n",
    "print(f'file saved{csv_file}')\n"
   ]
  },
  {
   "cell_type": "code",
   "execution_count": 5,
   "id": "d8f20a84",
   "metadata": {},
   "outputs": [
    {
     "name": "stderr",
     "output_type": "stream",
     "text": [
      "C:\\Users\\Gur Levy\\AppData\\Local\\Temp\\ipykernel_5068\\303758452.py:27: DeprecationWarning: datetime.datetime.utcfromtimestamp() is deprecated and scheduled for removal in a future version. Use timezone-aware objects to represent datetimes in UTC: datetime.datetime.fromtimestamp(timestamp, datetime.UTC).\n",
      "  dt = datetime.utcfromtimestamp(entry['dt']) + timedelta(seconds=offset)\n"
     ]
    },
    {
     "name": "stdout",
     "output_type": "stream",
     "text": [
      "UTCI input file saved: monterrey_utci_inputs.csv\n"
     ]
    }
   ],
   "source": [
    "import requests\n",
    "import csv\n",
    "from datetime import datetime, timedelta\n",
    "\n",
    "# monterrey location and api \n",
    "lat = 25.686613\n",
    "lon = -100.316116\n",
    "api_key = 'd420319993e5906012bee411669261e0'\n",
    "\n",
    "# hourly weather from One Call API\n",
    "weather_url = 'https://api.openweathermap.org/data/3.0/onecall'\n",
    "weather_params = {\n",
    "    'lat': lat,\n",
    "    'lon': lon,\n",
    "    'exclude': 'current,minutely,daily,alerts',\n",
    "    'appid': api_key,\n",
    "    'units': 'metric' \n",
    "}\n",
    "\n",
    "weather_response = requests.get(weather_url, params=weather_params)\n",
    "weather_data = weather_response.json()\n",
    "offset = weather_data.get('timezone_offset', 0)\n",
    "\n",
    "# build dict by datetime string (hour) for easy merging\n",
    "weather_by_hour = {}\n",
    "for entry in weather_data['hourly']:\n",
    "    dt = datetime.utcfromtimestamp(entry['dt']) + timedelta(seconds=offset)\n",
    "    dt_str = dt.strftime(\"%Y-%m-%d %H\")\n",
    "    weather_by_hour[dt_str] = {\n",
    "        'datetime': dt.strftime(\"%Y-%m-%d %H:%M:%S\"),\n",
    "        'temp': entry.get(\"temp\"),\n",
    "        'humidity': entry.get(\"humidity\"),\n",
    "        'wind_speed': entry.get(\"wind_speed\")\n",
    "    }\n",
    "\n",
    "# hourly solar radiation from Solar API \n",
    "solar_url = 'https://api.openweathermap.org/energy/1.0/solar/data'\n",
    "solar_by_hour = {}\n",
    "\n",
    "for i in range(7):\n",
    "    date_str = (datetime.now() + timedelta(days=i)).strftime('%Y-%m-%d')\n",
    "    params = {\n",
    "        'lat': lat,\n",
    "        'lon': lon,\n",
    "        'date': date_str,\n",
    "        'appid': api_key\n",
    "    }\n",
    "\n",
    "    response = requests.get(solar_url, params=params)\n",
    "    if response.status_code == 200:\n",
    "        data = response.json()\n",
    "        hourly = data['irradiance']['hourly']\n",
    "        for h in hourly:\n",
    "            dt_str = f\"{date_str} {h['hour']:02}\"\n",
    "            solar_by_hour[dt_str] = h['clear_sky']['ghi']  # W/m²\n",
    "    else:\n",
    "        print(f\"Solar API failed for {date_str}: {response.status_code}\")\n",
    "\n",
    "# merge and create final csv\n",
    "final_rows = []\n",
    "header = ['datetime', 'temp', 'humidity', 'wind_speed', 'solar_ghi']\n",
    "\n",
    "for dt_hour, weather in weather_by_hour.items():\n",
    "    solar = solar_by_hour.get(dt_hour)\n",
    "    if solar is not None:\n",
    "        row = [\n",
    "            weather['datetime'],\n",
    "            weather['temp'],\n",
    "            weather['humidity'],\n",
    "            weather['wind_speed'],\n",
    "            solar\n",
    "        ]\n",
    "        final_rows.append(row)\n",
    "\n",
    "# save file\n",
    "csv_file = 'monterrey_utci_inputs.csv'\n",
    "with open(csv_file, 'w', newline='', encoding='utf-8') as f:\n",
    "    writer = csv.writer(f)\n",
    "    writer.writerow(header)\n",
    "    writer.writerows(final_rows)\n",
    "\n",
    "print(f'UTCI input file saved: {csv_file}')\n"
   ]
  },
  {
   "cell_type": "code",
   "execution_count": 6,
   "id": "15fe7da0",
   "metadata": {},
   "outputs": [
    {
     "name": "stdout",
     "output_type": "stream",
     "text": [
      "Requirement already satisfied: pandas in c:\\users\\gur levy\\heinecan-4\\.venv\\lib\\site-packages (2.2.3)\n",
      "Requirement already satisfied: numpy>=1.26.0 in c:\\users\\gur levy\\heinecan-4\\.venv\\lib\\site-packages (from pandas) (2.2.5)\n",
      "Requirement already satisfied: python-dateutil>=2.8.2 in c:\\users\\gur levy\\heinecan-4\\.venv\\lib\\site-packages (from pandas) (2.9.0.post0)\n",
      "Requirement already satisfied: pytz>=2020.1 in c:\\users\\gur levy\\heinecan-4\\.venv\\lib\\site-packages (from pandas) (2025.2)\n",
      "Requirement already satisfied: tzdata>=2022.7 in c:\\users\\gur levy\\heinecan-4\\.venv\\lib\\site-packages (from pandas) (2025.2)\n",
      "Requirement already satisfied: six>=1.5 in c:\\users\\gur levy\\heinecan-4\\.venv\\lib\\site-packages (from python-dateutil>=2.8.2->pandas) (1.17.0)\n"
     ]
    }
   ],
   "source": [
    "!pip install pandas"
   ]
  },
  {
   "cell_type": "code",
   "execution_count": null,
   "id": "f20662ac",
   "metadata": {},
   "outputs": [
    {
     "name": "stdout",
     "output_type": "stream",
     "text": [
      "UTCI calculation complete. File saved: monterrey_utci_results.csv\n"
     ]
    }
   ],
   "source": [
    "import pandas as pd\n",
    "\n",
    "# merged data\n",
    "df = pd.read_csv('monterrey_utci_inputs.csv')\n",
    "\n",
    "# estimate MRT (mean radiant temperature)\n",
    "# MRT = temp + 0.03 * GHI \n",
    "df['mrt'] = df['temp'] + 0.03 * df['solar_ghi']\n",
    "\n",
    "# this is NOT the official UTCI model, empirical regression\n",
    "# Bröde et al. (2012) — simplified terms only\n",
    "df['utci'] = df['temp'] + \\\n",
    "    0.607562 + \\\n",
    "    -0.022771 * df['temp'] + \\\n",
    "    0.000806 * df['humidity'] + \\\n",
    "    -0.002 * df['wind_speed'] + \\\n",
    "    0.0000012 * df['temp']**2 + \\\n",
    "    -0.0000028 * df['humidity']**2 + \\\n",
    "    0.0000035 * df['wind_speed']**2 + \\\n",
    "    0.0006 * (df['mrt'] - df['temp'])   # added influence of radiant temperature\n",
    "\n",
    "\n",
    "df.to_csv('monterrey_utci_results.csv', index=False)\n",
    "\n",
    "print(\"UTCI calculation complete. File saved: monterrey_utci_results.csv\")\n"
   ]
  },
  {
   "cell_type": "code",
   "execution_count": null,
   "id": "6022df5f",
   "metadata": {},
   "outputs": [],
   "source": []
  }
 ],
 "metadata": {
  "kernelspec": {
   "display_name": ".venv",
   "language": "python",
   "name": "python3"
  },
  "language_info": {
   "codemirror_mode": {
    "name": "ipython",
    "version": 3
   },
   "file_extension": ".py",
   "mimetype": "text/x-python",
   "name": "python",
   "nbconvert_exporter": "python",
   "pygments_lexer": "ipython3",
   "version": "3.13.2"
  }
 },
 "nbformat": 4,
 "nbformat_minor": 5
}
