{
 "cells": [
  {
   "cell_type": "code",
   "execution_count": 1,
   "id": "a3882105",
   "metadata": {},
   "outputs": [
    {
     "name": "stdout",
     "output_type": "stream",
     "text": [
      "c:\\Users\\Gur Levy\\heinecan-4\\.venv\\Scripts\\python.exe\n"
     ]
    }
   ],
   "source": [
    "import sys\n",
    "print(sys.executable)\n"
   ]
  },
  {
   "cell_type": "code",
   "execution_count": 2,
   "id": "23dd0bda",
   "metadata": {},
   "outputs": [
    {
     "name": "stdout",
     "output_type": "stream",
     "text": [
      "Requirement already satisfied: requests in c:\\users\\gur levy\\heinecan-4\\.venv\\lib\\site-packages (2.32.3)\n",
      "Requirement already satisfied: charset-normalizer<4,>=2 in c:\\users\\gur levy\\heinecan-4\\.venv\\lib\\site-packages (from requests) (3.4.2)\n",
      "Requirement already satisfied: idna<4,>=2.5 in c:\\users\\gur levy\\heinecan-4\\.venv\\lib\\site-packages (from requests) (3.10)\n",
      "Requirement already satisfied: urllib3<3,>=1.21.1 in c:\\users\\gur levy\\heinecan-4\\.venv\\lib\\site-packages (from requests) (2.4.0)\n",
      "Requirement already satisfied: certifi>=2017.4.17 in c:\\users\\gur levy\\heinecan-4\\.venv\\lib\\site-packages (from requests) (2025.4.26)\n"
     ]
    }
   ],
   "source": [
    "!pip install requests\n"
   ]
  },
  {
   "cell_type": "code",
   "execution_count": 3,
   "id": "bb0468a2",
   "metadata": {},
   "outputs": [],
   "source": [
    "import requests\n",
    "import csv\n",
    "from datetime import datetime, timedelta\n"
   ]
  },
  {
   "cell_type": "code",
   "execution_count": 4,
   "id": "3f0505fa",
   "metadata": {},
   "outputs": [
    {
     "name": "stdout",
     "output_type": "stream",
     "text": [
      "file savedmonterrey_hourly_weather.csv\n"
     ]
    },
    {
     "name": "stderr",
     "output_type": "stream",
     "text": [
      "C:\\Users\\Gur Levy\\AppData\\Local\\Temp\\ipykernel_680\\2351409520.py:20: DeprecationWarning: datetime.datetime.utcfromtimestamp() is deprecated and scheduled for removal in a future version. Use timezone-aware objects to represent datetimes in UTC: datetime.datetime.fromtimestamp(timestamp, datetime.UTC).\n",
      "  dt = datetime.utcfromtimestamp(entry['dt']) + timedelta(seconds=offset)\n"
     ]
    }
   ],
   "source": [
    "# api endpoint and params\n",
    "url = 'https://api.openweathermap.org/data/3.0/onecall'\n",
    "params = {\n",
    "    'lat': 25.686613,\n",
    "    'lon': -100.316116,\n",
    "    'exclude': 'current,minutely,daily,alerts',\n",
    "    'appid': 'd420319993e5906012bee411669261e0',\n",
    "    'units': 'metrics'\n",
    "}\n",
    "#api request\n",
    "response = requests.get(url, params = params)\n",
    "data = response.json()\n",
    "#timezone offset\n",
    "offset = data.get('timezone_offset', 0)\n",
    "#csv file\n",
    "csv_rows = []\n",
    "header = ['datetime', 'temp',  'feels_like', 'pressure', 'humidity', 'dew_point', 'uvi', 'clouds','wind_speed', 'wind_deg', 'weather_description']\n",
    "#changing to datetime\n",
    "for entry in data['hourly']:\n",
    "    dt = datetime.utcfromtimestamp(entry['dt']) + timedelta(seconds=offset)\n",
    "    weather_desc = entry['weather'][0]['description'] if entry.get('weather')else''\n",
    "    row = [\n",
    "        dt.strftime(\"%Y-%m-%d %H:%M:%S\"),\n",
    "        entry.get(\"temp\"),\n",
    "        entry.get(\"feels_like\"),\n",
    "        entry.get(\"pressure\"),\n",
    "        entry.get(\"humidity\"),\n",
    "        entry.get(\"dew_point\"),\n",
    "        entry.get(\"uvi\"),\n",
    "        entry.get(\"clouds\"),\n",
    "        entry.get(\"wind_speed\"),\n",
    "        entry.get(\"wind_deg\"),\n",
    "        weather_desc\n",
    "    ]\n",
    "    csv_rows.append(row)\n",
    "\n",
    "#csv save\n",
    "csv_file = 'monterrey_hourly_weather.csv'\n",
    "with open(csv_file, 'w', newline='', encoding='utf-8') as f:\n",
    "    writer = csv.writer(f)\n",
    "    writer.writerow(header)\n",
    "    writer.writerows(csv_rows)\n",
    "\n",
    "print(f'file saved{csv_file}')\n"
   ]
  },
  {
   "cell_type": "code",
   "execution_count": 5,
   "id": "d8f20a84",
   "metadata": {},
   "outputs": [
    {
     "name": "stderr",
     "output_type": "stream",
     "text": [
      "C:\\Users\\Gur Levy\\AppData\\Local\\Temp\\ipykernel_680\\303758452.py:27: DeprecationWarning: datetime.datetime.utcfromtimestamp() is deprecated and scheduled for removal in a future version. Use timezone-aware objects to represent datetimes in UTC: datetime.datetime.fromtimestamp(timestamp, datetime.UTC).\n",
      "  dt = datetime.utcfromtimestamp(entry['dt']) + timedelta(seconds=offset)\n"
     ]
    },
    {
     "name": "stdout",
     "output_type": "stream",
     "text": [
      "UTCI input file saved: monterrey_utci_inputs.csv\n"
     ]
    }
   ],
   "source": [
    "import requests\n",
    "import csv\n",
    "from datetime import datetime, timedelta\n",
    "\n",
    "# monterrey location and api \n",
    "lat = 25.686613\n",
    "lon = -100.316116\n",
    "api_key = 'd420319993e5906012bee411669261e0'\n",
    "\n",
    "# hourly weather from One Call API\n",
    "weather_url = 'https://api.openweathermap.org/data/3.0/onecall'\n",
    "weather_params = {\n",
    "    'lat': lat,\n",
    "    'lon': lon,\n",
    "    'exclude': 'current,minutely,daily,alerts',\n",
    "    'appid': api_key,\n",
    "    'units': 'metric' \n",
    "}\n",
    "\n",
    "weather_response = requests.get(weather_url, params=weather_params)\n",
    "weather_data = weather_response.json()\n",
    "offset = weather_data.get('timezone_offset', 0)\n",
    "\n",
    "# build dict by datetime string (hour) for easy merging\n",
    "weather_by_hour = {}\n",
    "for entry in weather_data['hourly']:\n",
    "    dt = datetime.utcfromtimestamp(entry['dt']) + timedelta(seconds=offset)\n",
    "    dt_str = dt.strftime(\"%Y-%m-%d %H\")\n",
    "    weather_by_hour[dt_str] = {\n",
    "        'datetime': dt.strftime(\"%Y-%m-%d %H:%M:%S\"),\n",
    "        'temp': entry.get(\"temp\"),\n",
    "        'humidity': entry.get(\"humidity\"),\n",
    "        'wind_speed': entry.get(\"wind_speed\")\n",
    "    }\n",
    "\n",
    "# hourly solar radiation from Solar API \n",
    "solar_url = 'https://api.openweathermap.org/energy/1.0/solar/data'\n",
    "solar_by_hour = {}\n",
    "\n",
    "for i in range(7):\n",
    "    date_str = (datetime.now() + timedelta(days=i)).strftime('%Y-%m-%d')\n",
    "    params = {\n",
    "        'lat': lat,\n",
    "        'lon': lon,\n",
    "        'date': date_str,\n",
    "        'appid': api_key\n",
    "    }\n",
    "\n",
    "    response = requests.get(solar_url, params=params)\n",
    "    if response.status_code == 200:\n",
    "        data = response.json()\n",
    "        hourly = data['irradiance']['hourly']\n",
    "        for h in hourly:\n",
    "            dt_str = f\"{date_str} {h['hour']:02}\"\n",
    "            solar_by_hour[dt_str] = h['clear_sky']['ghi']  # W/m²\n",
    "    else:\n",
    "        print(f\"Solar API failed for {date_str}: {response.status_code}\")\n",
    "\n",
    "# merge and create final csv\n",
    "final_rows = []\n",
    "header = ['datetime', 'temp', 'humidity', 'wind_speed', 'solar_ghi']\n",
    "\n",
    "for dt_hour, weather in weather_by_hour.items():\n",
    "    solar = solar_by_hour.get(dt_hour)\n",
    "    if solar is not None:\n",
    "        row = [\n",
    "            weather['datetime'],\n",
    "            weather['temp'],\n",
    "            weather['humidity'],\n",
    "            weather['wind_speed'],\n",
    "            solar\n",
    "        ]\n",
    "        final_rows.append(row)\n",
    "\n",
    "# save file\n",
    "csv_file = 'monterrey_utci_inputs.csv'\n",
    "with open(csv_file, 'w', newline='', encoding='utf-8') as f:\n",
    "    writer = csv.writer(f)\n",
    "    writer.writerow(header)\n",
    "    writer.writerows(final_rows)\n",
    "\n",
    "print(f'UTCI input file saved: {csv_file}')\n"
   ]
  },
  {
   "cell_type": "code",
   "execution_count": 6,
   "id": "15fe7da0",
   "metadata": {},
   "outputs": [
    {
     "name": "stdout",
     "output_type": "stream",
     "text": [
      "Requirement already satisfied: pandas in c:\\users\\gur levy\\heinecan-4\\.venv\\lib\\site-packages (2.2.3)\n",
      "Requirement already satisfied: numpy>=1.26.0 in c:\\users\\gur levy\\heinecan-4\\.venv\\lib\\site-packages (from pandas) (2.2.5)\n",
      "Requirement already satisfied: python-dateutil>=2.8.2 in c:\\users\\gur levy\\heinecan-4\\.venv\\lib\\site-packages (from pandas) (2.9.0.post0)\n",
      "Requirement already satisfied: pytz>=2020.1 in c:\\users\\gur levy\\heinecan-4\\.venv\\lib\\site-packages (from pandas) (2025.2)\n",
      "Requirement already satisfied: tzdata>=2022.7 in c:\\users\\gur levy\\heinecan-4\\.venv\\lib\\site-packages (from pandas) (2025.2)\n",
      "Requirement already satisfied: six>=1.5 in c:\\users\\gur levy\\heinecan-4\\.venv\\lib\\site-packages (from python-dateutil>=2.8.2->pandas) (1.17.0)\n"
     ]
    }
   ],
   "source": [
    "!pip install pandas"
   ]
  },
  {
   "cell_type": "code",
   "execution_count": 7,
   "id": "f20662ac",
   "metadata": {},
   "outputs": [
    {
     "name": "stdout",
     "output_type": "stream",
     "text": [
      "UTCI calculation complete. File saved: monterrey_utci_results.csv\n"
     ]
    }
   ],
   "source": [
    "import pandas as pd\n",
    "import numpy as np\n",
    "# merged data\n",
    "df = pd.read_csv('monterrey_utci_inputs.csv')\n",
    "\n",
    "# estimate MRT (mean radiant temperature)\n",
    "# MRT = temp + 0.03 * GHI \n",
    "df['mrt'] = df['temp'] + 0.03 * df['solar_ghi']\n",
    "\n",
    "# calculate water vapor pressure (pa) using Tetens formula\n",
    "es = 6.112 * np.exp((17.67 * df['temp']) / (df['temp'] + 243.5))  # hPa\n",
    "df['pa'] = (es * (df['humidity'] / 100)) / 10  # convert to kPa\n",
    "\n",
    "# this is NOT the official UTCI model, empirical regression\n",
    "# Bröde et al. (2012) — simplified terms only\n",
    "df['utci'] = (\n",
    "    0.6076 +\n",
    "    0.9772 * df['temp'] +\n",
    "    -2.2584 * df['wind_speed'] +\n",
    "    0.3984 * (df['mrt'] - df['temp']) +\n",
    "    5.1273 * df['pa']\n",
    ")\n",
    "\n",
    "\n",
    "df.to_csv('monterrey_utci_results.csv', index=False)\n",
    "\n",
    "print(\"UTCI calculation complete. File saved: monterrey_utci_results.csv\")\n"
   ]
  },
  {
   "cell_type": "code",
   "execution_count": 8,
   "id": "6022df5f",
   "metadata": {},
   "outputs": [
    {
     "data": {
      "text/html": [
       "<div>\n",
       "<style scoped>\n",
       "    .dataframe tbody tr th:only-of-type {\n",
       "        vertical-align: middle;\n",
       "    }\n",
       "\n",
       "    .dataframe tbody tr th {\n",
       "        vertical-align: top;\n",
       "    }\n",
       "\n",
       "    .dataframe thead th {\n",
       "        text-align: right;\n",
       "    }\n",
       "</style>\n",
       "<table border=\"1\" class=\"dataframe\">\n",
       "  <thead>\n",
       "    <tr style=\"text-align: right;\">\n",
       "      <th></th>\n",
       "      <th>datetime</th>\n",
       "      <th>temp</th>\n",
       "      <th>humidity</th>\n",
       "      <th>wind_speed</th>\n",
       "      <th>solar_ghi</th>\n",
       "      <th>mrt</th>\n",
       "      <th>pa</th>\n",
       "      <th>utci</th>\n",
       "    </tr>\n",
       "  </thead>\n",
       "  <tbody>\n",
       "    <tr>\n",
       "      <th>0</th>\n",
       "      <td>2025-05-23 07:00:00</td>\n",
       "      <td>24.76</td>\n",
       "      <td>83</td>\n",
       "      <td>1.14</td>\n",
       "      <td>293.80</td>\n",
       "      <td>33.5740</td>\n",
       "      <td>2.591545</td>\n",
       "      <td>39.027622</td>\n",
       "    </tr>\n",
       "    <tr>\n",
       "      <th>1</th>\n",
       "      <td>2025-05-23 08:00:00</td>\n",
       "      <td>25.10</td>\n",
       "      <td>81</td>\n",
       "      <td>1.24</td>\n",
       "      <td>520.57</td>\n",
       "      <td>40.7171</td>\n",
       "      <td>2.580970</td>\n",
       "      <td>41.790165</td>\n",
       "    </tr>\n",
       "    <tr>\n",
       "      <th>2</th>\n",
       "      <td>2025-05-23 09:00:00</td>\n",
       "      <td>25.66</td>\n",
       "      <td>77</td>\n",
       "      <td>1.25</td>\n",
       "      <td>728.27</td>\n",
       "      <td>47.5081</td>\n",
       "      <td>2.536663</td>\n",
       "      <td>44.570067</td>\n",
       "    </tr>\n",
       "    <tr>\n",
       "      <th>3</th>\n",
       "      <td>2025-05-23 10:00:00</td>\n",
       "      <td>27.24</td>\n",
       "      <td>70</td>\n",
       "      <td>1.85</td>\n",
       "      <td>895.15</td>\n",
       "      <td>54.0945</td>\n",
       "      <td>2.531541</td>\n",
       "      <td>46.727290</td>\n",
       "    </tr>\n",
       "    <tr>\n",
       "      <th>4</th>\n",
       "      <td>2025-05-23 11:00:00</td>\n",
       "      <td>29.02</td>\n",
       "      <td>61</td>\n",
       "      <td>2.42</td>\n",
       "      <td>1005.68</td>\n",
       "      <td>59.1904</td>\n",
       "      <td>2.447357</td>\n",
       "      <td>48.068835</td>\n",
       "    </tr>\n",
       "  </tbody>\n",
       "</table>\n",
       "</div>"
      ],
      "text/plain": [
       "              datetime   temp  humidity  wind_speed  solar_ghi      mrt  \\\n",
       "0  2025-05-23 07:00:00  24.76        83        1.14     293.80  33.5740   \n",
       "1  2025-05-23 08:00:00  25.10        81        1.24     520.57  40.7171   \n",
       "2  2025-05-23 09:00:00  25.66        77        1.25     728.27  47.5081   \n",
       "3  2025-05-23 10:00:00  27.24        70        1.85     895.15  54.0945   \n",
       "4  2025-05-23 11:00:00  29.02        61        2.42    1005.68  59.1904   \n",
       "\n",
       "         pa       utci  \n",
       "0  2.591545  39.027622  \n",
       "1  2.580970  41.790165  \n",
       "2  2.536663  44.570067  \n",
       "3  2.531541  46.727290  \n",
       "4  2.447357  48.068835  "
      ]
     },
     "execution_count": 8,
     "metadata": {},
     "output_type": "execute_result"
    }
   ],
   "source": [
    "df.head()"
   ]
  },
  {
   "cell_type": "code",
   "execution_count": null,
   "id": "afedebe3",
   "metadata": {},
   "outputs": [],
   "source": [
    "## utci_scores, sperate working hours (8-18), and calculate avrg, dropdown of graphs"
   ]
  }
 ],
 "metadata": {
  "kernelspec": {
   "display_name": ".venv",
   "language": "python",
   "name": "python3"
  },
  "language_info": {
   "codemirror_mode": {
    "name": "ipython",
    "version": 3
   },
   "file_extension": ".py",
   "mimetype": "text/x-python",
   "name": "python",
   "nbconvert_exporter": "python",
   "pygments_lexer": "ipython3",
   "version": "3.13.2"
  }
 },
 "nbformat": 4,
 "nbformat_minor": 5
}
