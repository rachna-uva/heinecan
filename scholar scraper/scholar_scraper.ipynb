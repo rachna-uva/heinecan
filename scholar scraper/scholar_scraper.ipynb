{
 "cells": [
  {
   "cell_type": "code",
   "execution_count": 1,
   "metadata": {},
   "outputs": [],
   "source": [
    "from bs4 import BeautifulSoup\n",
    "import pandas as pd\n",
    "import requests\n",
    "\n",
    "url= 'https://scholar.google.com/scholar'\n",
    "\n",
    "#set headers\n",
    "headers = {\n",
    "    'User-Agent': 'Mozilla/5.0 (Macintosh; Intel Mac OS X 10_10_1) \\\n",
    "    AppleWebKit/537.36 (KHTML, like Gecko) Chrome/39.0.2171.95 Safari/537.36' \n",
    "    #english\n",
    "}\n",
    "\n",
    "params = {\n",
    "    #english\n",
    "    'hl': 'en',\n",
    "\n",
    "    'start': 0,\n",
    "    'q': 'heat stress guidlines interventions mitigation strategies' \n",
    "}"
   ]
  },
  {
   "cell_type": "code",
   "execution_count": null,
   "metadata": {},
   "outputs": [
    {
     "data": {
      "application/vnd.jupyter.widget-view+json": {
       "model_id": "2846c841f55d4d2ca54749937c7235ea",
       "version_major": 2,
       "version_minor": 0
      },
      "text/plain": [
       "  0%|          | 0/1 [00:00<?, ?it/s]"
      ]
     },
     "metadata": {},
     "output_type": "display_data"
    }
   ],
   "source": [
    "##GET TITLE/LINK/AUTHORS OF N*10 ARTICLES\n",
    "\n",
    "#loop through pages for n pages\n",
    "n = 10\n",
    "\n",
    "from tqdm.notebook import tqdm\n",
    "\n",
    "#store results\n",
    "results = pd.DataFrame(columns=['title', 'link', 'author'])\n",
    "\n",
    "for i in tqdm(range(n)):\n",
    "    params['start'] = i*10\n",
    "    response = requests.get(url, headers=headers, params=params)\n",
    "    soup = BeautifulSoup(response.text, 'html.parser')\n",
    "    articles = soup.find_all('div', class_='gs_ri')\n",
    "\n",
    "    #get titles\n",
    "    titles = [article.find('h3', class_='gs_rt').text for article in articles]\n",
    "    #get links\n",
    "    links = [article.find('h3', class_='gs_rt').find('a')['href'] for article in articles]\n",
    "    #get authors\n",
    "    authors = [article.find('div', class_='gs_a').text for article in articles]\n",
    "    \n",
    "    #add to results\n",
    "    results = results._append(pd.DataFrame({'title': titles, 'link': links, 'author': authors}))"
   ]
  },
  {
   "cell_type": "code",
   "execution_count": 3,
   "metadata": {},
   "outputs": [],
   "source": [
    "results.to_csv('article_info.csv')"
   ]
  },
  {
   "cell_type": "code",
   "execution_count": 4,
   "metadata": {},
   "outputs": [],
   "source": [
    "## BASIC CODE TO SCRAPE ABSTRACT \n",
    "\n",
    "import requests\n",
    "from bs4 import BeautifulSoup\n",
    "\n",
    "def scrape_abstract(url):\n",
    "\n",
    "    # YOUR CODE HERE\n",
    "    response = requests.get(url)\n",
    "\n",
    "    if response.status_code == 200:\n",
    "        soup = BeautifulSoup(response.text, 'html.parser')\n",
    "\n",
    "        abstract = soup.find('blockquote', class_='abstract').text.strip()\n",
    "    \n",
    "    return abstract"
   ]
  },
  {
   "cell_type": "code",
   "execution_count": 5,
   "metadata": {},
   "outputs": [
    {
     "name": "stdout",
     "output_type": "stream",
     "text": [
      "<Response [400]>\n"
     ]
    }
   ],
   "source": [
    "link = 'https://www.sciencedirect.com/science/article/pii/S0921800919302976'\n",
    "\n",
    "response = requests.get(link, headers=headers)\n",
    "\n",
    "print(response)"
   ]
  },
  {
   "cell_type": "code",
   "execution_count": 6,
   "metadata": {},
   "outputs": [],
   "source": [
    "## CODE TO DOWNLOAD 1 LINK\n",
    "\n",
    "from selenium import webdriver\n",
    "\n",
    "from selenium.webdriver.common.keys import Keys\n",
    "from selenium.webdriver.common.by import By\n",
    "\n",
    "import time\n",
    "import requests\n",
    "from urllib.parse import urlparse\n",
    "\n",
    "main_page_url = 'https://sci-hub.ru/'\n",
    "url_to_search = 'https://www.sciencedirect.com/science/article/pii/S0921800919302976'\n",
    "driver = webdriver.Chrome()\n",
    "\n",
    "try:\n",
    "    # Open page\n",
    "    driver.get(main_page_url)\n",
    "    time.sleep(2)  # Wait for the page to load (you can decrease this time if need be)\n",
    "\n",
    "    #doi_input = driver.find_element()\n",
    "    # Find search bar -> input URL\n",
    "    search_bar = driver.find_element(by=By.ID, value='request')\n",
    "    search_bar.send_keys(url_to_search)\n",
    "    search_bar.send_keys(Keys.RETURN)  # To submit the search query\n",
    "    time.sleep(1)  # Wait for a bit again\n",
    "\n",
    "    # Find download link\n",
    "    download_button = driver.find_element(by=By.XPATH, value=\"//button[@onclick]\")\n",
    "    onclick_attribute = download_button.get_attribute('onclick')\n",
    "\n",
    "    # Extract URL from the onclick attribute\n",
    "    # Assuming the format is location.href='URL'\n",
    "    pdf_url = onclick_attribute.split(\"'\")[1]\n",
    "    \n",
    "    download_link = 'https://' + urlparse(main_page_url).hostname + pdf_url\n",
    "  \n",
    "    # Download the PDF using requests\n",
    "    response = requests.get(download_link)\n",
    "\n",
    "    with open('pdf.pdf', 'wb') as file:\n",
    "        file.write(response.content)\n",
    "\n",
    "except Exception as e:\n",
    "    # Handle the exception, print an error message, etc.\n",
    "    print(f\"An error occurred: {str(e)}\")\n",
    "finally:\n",
    "    driver.quit()"
   ]
  },
  {
   "cell_type": "code",
   "execution_count": 7,
   "metadata": {},
   "outputs": [],
   "source": [
    "from selenium import webdriver\n",
    "from selenium.webdriver.support import expected_conditions as EC\n",
    "from selenium.webdriver.support.ui import WebDriverWait\n",
    "from selenium.webdriver.common.keys import Keys\n",
    "from selenium.webdriver.common.by import By\n",
    "\n",
    "import time\n",
    "import requests\n",
    "import os\n",
    "import random\n",
    "\n",
    "def pdf_download(url_to_search, file_name):\n",
    "    driver = webdriver.Chrome()  # initialize web driver\n",
    "    main_page_url = 'https://sci-hub.ru/'  # open sci-hub\n",
    "    driver.get(main_page_url)\n",
    "\n",
    "    try:\n",
    "        # Wait until the search bar with id=\"request\" is present\n",
    "        search_bar = WebDriverWait(driver, 10).until(\n",
    "            EC.presence_of_element_located((By.ID, 'request'))\n",
    "        )\n",
    "        search_bar.send_keys(url_to_search)\n",
    "        search_bar.send_keys(Keys.RETURN)  # Submit the search query\n",
    "    except Exception as e:\n",
    "        print(f\"Could not find search bar for {url_to_search}. Error: {e}\")\n",
    "        driver.quit()\n",
    "        return None\n",
    "\n",
    "    time.sleep(random.uniform(4, 6))\n",
    "\n",
    "    try:\n",
    "        # Find download button\n",
    "        download_button = WebDriverWait(driver, 10).until(\n",
    "            EC.presence_of_element_located((By.XPATH, \"//button[@onclick]\"))\n",
    "        )\n",
    "        onclick_attribute = download_button.get_attribute('onclick')\n",
    "    except Exception as e:\n",
    "        print(f\"Could not find download button for {url_to_search}. Error: {e}\")\n",
    "        driver.quit()\n",
    "        return url_to_search  # Mark this URL as problematic\n",
    "\n",
    "    try:\n",
    "        # Extract URL from onclick attribute\n",
    "        pdf_url = onclick_attribute.split(\"'\")[1]\n",
    "        download_link = 'https://sci-hub.ru' + pdf_url\n",
    "\n",
    "        # Ensure 'pdfs' folder exists\n",
    "        os.makedirs('pdfs', exist_ok=True)\n",
    "\n",
    "        # Download and save the PDF\n",
    "        response = requests.get(download_link)\n",
    "        with open(f'pdfs/{file_name}.pdf', 'wb') as file:\n",
    "            file.write(response.content)\n",
    "\n",
    "    except Exception as e:\n",
    "        print(f\"Failed to download or save PDF for {url_to_search}. Error: {e}\")\n",
    "        driver.quit()\n",
    "        return url_to_search\n",
    "\n",
    "    driver.quit()\n",
    "    return None  # Success\n"
   ]
  },
  {
   "cell_type": "code",
   "execution_count": 8,
   "metadata": {},
   "outputs": [],
   "source": [
    "##to call on all links !!! DO NOT RERUN, IT WILL SET LIST BACK TO NONE\n",
    "\n",
    "import pandas as pd\n",
    "import os\n",
    "\n",
    "data = pd.read_csv('article_info.csv')\n",
    "title = data['title']\n",
    "links = data['link']\n",
    "author = ['author'] \n",
    "\n",
    "\n",
    "def file_exists(file_path):\n",
    "    return os.path.exists(file_path)\n",
    "\n",
    "list_error_links = []"
   ]
  },
  {
   "cell_type": "code",
   "execution_count": 9,
   "metadata": {},
   "outputs": [
    {
     "name": "stdout",
     "output_type": "stream",
     "text": [
      "PDF already downloaded\n",
      "Could not find download button for https://www.jstage.jst.go.jp/article/indhealth/51/1/51_2012-0089/_article/-char/ja/. Error: Message: \n",
      "Stacktrace:\n",
      "\tGetHandleVerifier [0x00007FF7D79F4C25+3179557]\n",
      "\t(No symbol) [0x00007FF7D76588A0]\n",
      "\t(No symbol) [0x00007FF7D74E91CA]\n",
      "\t(No symbol) [0x00007FF7D753FA67]\n",
      "\t(No symbol) [0x00007FF7D753FC9C]\n",
      "\t(No symbol) [0x00007FF7D7593627]\n",
      "\t(No symbol) [0x00007FF7D7567C6F]\n",
      "\t(No symbol) [0x00007FF7D75902F3]\n",
      "\t(No symbol) [0x00007FF7D7567A03]\n",
      "\t(No symbol) [0x00007FF7D75306D0]\n",
      "\t(No symbol) [0x00007FF7D7531983]\n",
      "\tGetHandleVerifier [0x00007FF7D7A567CD+3579853]\n",
      "\tGetHandleVerifier [0x00007FF7D7A6D1D2+3672530]\n",
      "\tGetHandleVerifier [0x00007FF7D7A62153+3627347]\n",
      "\tGetHandleVerifier [0x00007FF7D77C092A+868650]\n",
      "\t(No symbol) [0x00007FF7D7662FFF]\n",
      "\t(No symbol) [0x00007FF7D765F4A4]\n",
      "\t(No symbol) [0x00007FF7D765F646]\n",
      "\t(No symbol) [0x00007FF7D764EAA9]\n",
      "\tBaseThreadInitThunk [0x00007FFDCBF8E8D7+23]\n",
      "\tRtlUserThreadStart [0x00007FFDCCEDBF6C+44]\n",
      "\n",
      "ERROR FOR https://www.jstage.jst.go.jp/article/indhealth/51/1/51_2012-0089/_article/-char/ja/\n",
      "PDF already downloaded\n",
      "PDF already downloaded\n",
      "Could not find download button for https://www.aivc.org/resource/heat-waves-risks-and-responses. Error: Message: \n",
      "Stacktrace:\n",
      "\tGetHandleVerifier [0x00007FF7D79F4C25+3179557]\n",
      "\t(No symbol) [0x00007FF7D76588A0]\n",
      "\t(No symbol) [0x00007FF7D74E91CA]\n",
      "\t(No symbol) [0x00007FF7D753FA67]\n",
      "\t(No symbol) [0x00007FF7D753FC9C]\n",
      "\t(No symbol) [0x00007FF7D7593627]\n",
      "\t(No symbol) [0x00007FF7D7567C6F]\n",
      "\t(No symbol) [0x00007FF7D75902F3]\n",
      "\t(No symbol) [0x00007FF7D7567A03]\n",
      "\t(No symbol) [0x00007FF7D75306D0]\n",
      "\t(No symbol) [0x00007FF7D7531983]\n",
      "\tGetHandleVerifier [0x00007FF7D7A567CD+3579853]\n",
      "\tGetHandleVerifier [0x00007FF7D7A6D1D2+3672530]\n",
      "\tGetHandleVerifier [0x00007FF7D7A62153+3627347]\n",
      "\tGetHandleVerifier [0x00007FF7D77C092A+868650]\n",
      "\t(No symbol) [0x00007FF7D7662FFF]\n",
      "\t(No symbol) [0x00007FF7D765F4A4]\n",
      "\t(No symbol) [0x00007FF7D765F646]\n",
      "\t(No symbol) [0x00007FF7D764EAA9]\n",
      "\tBaseThreadInitThunk [0x00007FFDCBF8E8D7+23]\n",
      "\tRtlUserThreadStart [0x00007FFDCCEDBF6C+44]\n",
      "\n",
      "ERROR FOR https://www.aivc.org/resource/heat-waves-risks-and-responses\n",
      "PDF already downloaded\n",
      "PDF already downloaded\n",
      "PDF already downloaded\n",
      "PDF already downloaded\n",
      "PDF already downloaded\n"
     ]
    }
   ],
   "source": [
    "#function to call on all links\n",
    "os.makedirs('pdfs', exist_ok=True)\n",
    "\n",
    "for index, row in data.iterrows():\n",
    "    pdf_file_path = f'pdfs/{index}.pdf'\n",
    "    if file_exists(pdf_file_path) is True:\n",
    "        print(\"PDF already downloaded\")\n",
    "    else:\n",
    "        if row['link'] in list_error_links:\n",
    "            print('error already encountered')\n",
    "        else:\n",
    "            url_returned = pdf_download(row['link'], index)  #(links[index], index)\n",
    "            if url_returned is not None:\n",
    "                list_error_links.append(url_returned)\n",
    "                print(f'ERROR FOR {url_returned}')"
   ]
  },
  {
   "cell_type": "code",
   "execution_count": null,
   "metadata": {},
   "outputs": [],
   "source": []
  },
  {
   "cell_type": "code",
   "execution_count": 10,
   "metadata": {},
   "outputs": [
    {
     "name": "stdout",
     "output_type": "stream",
     "text": [
      "Requirement already satisfied: pypdf in c:\\users\\admin\\appdata\\local\\programs\\python\\python313\\lib\\site-packages (5.4.0)\n",
      "Note: you may need to restart the kernel to use updated packages.\n"
     ]
    }
   ],
   "source": [
    "%pip install pypdf"
   ]
  },
  {
   "cell_type": "code",
   "execution_count": 11,
   "metadata": {},
   "outputs": [
    {
     "name": "stdout",
     "output_type": "stream",
     "text": [
      "Analyzing 0.pdf...\n",
      "0.pdf has 16 pages!\n"
     ]
    },
    {
     "name": "stderr",
     "output_type": "stream",
     "text": [
      "invalid pdf header: b'<!DOC'\n",
      "EOF marker not found\n",
      "invalid pdf header: b'<!DOC'\n",
      "EOF marker not found\n",
      "invalid pdf header: b'<!DOC'\n",
      "EOF marker not found\n"
     ]
    },
    {
     "name": "stdout",
     "output_type": "stream",
     "text": [
      "Analyzing 2.pdf...\n",
      "Skipping 2.pdf — couldn't read PDF. Error: Stream has ended unexpectedly\n",
      "Analyzing 3.pdf...\n",
      "Skipping 3.pdf — couldn't read PDF. Error: Stream has ended unexpectedly\n",
      "Analyzing 5.pdf...\n",
      "Skipping 5.pdf — couldn't read PDF. Error: Stream has ended unexpectedly\n",
      "Analyzing 6.pdf...\n",
      "6.pdf has 23 pages!\n",
      "Analyzing 7.pdf...\n",
      "7.pdf has 11 pages!\n"
     ]
    },
    {
     "name": "stderr",
     "output_type": "stream",
     "text": [
      "invalid pdf header: b'<!DOC'\n",
      "EOF marker not found\n",
      "invalid pdf header: b'<!DOC'\n",
      "EOF marker not found\n"
     ]
    },
    {
     "name": "stdout",
     "output_type": "stream",
     "text": [
      "Analyzing 8.pdf...\n",
      "Skipping 8.pdf — couldn't read PDF. Error: Stream has ended unexpectedly\n",
      "Analyzing 9.pdf...\n",
      "Skipping 9.pdf — couldn't read PDF. Error: Stream has ended unexpectedly\n"
     ]
    }
   ],
   "source": [
    "from pypdf import PdfReader\n",
    "from os import listdir\n",
    "from os.path import isfile, join\n",
    "\n",
    "mypath = 'pdfs'  # or your full path\n",
    "pdf_folder_content = [f for f in listdir(mypath) if isfile(join(mypath, f)) and f.lower().endswith('.pdf')]\n",
    "\n",
    "all_pdf_texts = {}\n",
    "\n",
    "for pdf in pdf_folder_content:\n",
    "    print(f'Analyzing {pdf}...')\n",
    "\n",
    "    try:\n",
    "        reader = PdfReader(join(mypath, pdf))\n",
    "        n_pages = len(reader.pages)\n",
    "        print(f'{pdf} has {n_pages} pages!')\n",
    "\n",
    "        all_text = []\n",
    "        for i in range(n_pages):  \n",
    "            page_text = reader.pages[i].extract_text()\n",
    "            all_text.append(page_text)\n",
    "\n",
    "        result_string = ' '.join(filter(None, all_text))  # remove None entries\n",
    "        all_pdf_texts[pdf] = result_string\n",
    "\n",
    "    except Exception as e:\n",
    "        print(f\"Skipping {pdf} — couldn't read PDF. Error: {e}\")\n"
   ]
  },
  {
   "cell_type": "code",
   "execution_count": null,
   "metadata": {},
   "outputs": [],
   "source": []
  }
 ],
 "metadata": {
  "kernelspec": {
   "display_name": "Python 3",
   "language": "python",
   "name": "python3"
  },
  "language_info": {
   "codemirror_mode": {
    "name": "ipython",
    "version": 3
   },
   "file_extension": ".py",
   "mimetype": "text/x-python",
   "name": "python",
   "nbconvert_exporter": "python",
   "pygments_lexer": "ipython3",
   "version": "3.13.2"
  }
 },
 "nbformat": 4,
 "nbformat_minor": 2
}
