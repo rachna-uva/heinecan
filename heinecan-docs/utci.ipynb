{
 "cells": [
  {
   "cell_type": "code",
   "execution_count": 20,
   "id": "a3882105",
   "metadata": {},
   "outputs": [
    {
     "name": "stdout",
     "output_type": "stream",
     "text": [
      "c:\\Users\\Gur Levy\\heinecan-4\\.venv\\Scripts\\python.exe\n"
     ]
    }
   ],
   "source": [
    "import sys\n",
    "print(sys.executable)\n"
   ]
  },
  {
   "cell_type": "code",
   "execution_count": 21,
   "id": "23dd0bda",
   "metadata": {},
   "outputs": [
    {
     "name": "stdout",
     "output_type": "stream",
     "text": [
      "Requirement already satisfied: requests in c:\\users\\gur levy\\heinecan-4\\.venv\\lib\\site-packages (2.32.3)\n",
      "Requirement already satisfied: charset-normalizer<4,>=2 in c:\\users\\gur levy\\heinecan-4\\.venv\\lib\\site-packages (from requests) (3.4.2)\n",
      "Requirement already satisfied: idna<4,>=2.5 in c:\\users\\gur levy\\heinecan-4\\.venv\\lib\\site-packages (from requests) (3.10)\n",
      "Requirement already satisfied: urllib3<3,>=1.21.1 in c:\\users\\gur levy\\heinecan-4\\.venv\\lib\\site-packages (from requests) (2.4.0)\n",
      "Requirement already satisfied: certifi>=2017.4.17 in c:\\users\\gur levy\\heinecan-4\\.venv\\lib\\site-packages (from requests) (2025.4.26)\n"
     ]
    }
   ],
   "source": [
    "!pip install requests\n"
   ]
  },
  {
   "cell_type": "code",
   "execution_count": 22,
   "id": "bb0468a2",
   "metadata": {},
   "outputs": [],
   "source": [
    "import requests\n",
    "import csv\n",
    "from datetime import datetime, timedelta\n"
   ]
  },
  {
   "cell_type": "code",
   "execution_count": 23,
   "id": "317e5e06",
   "metadata": {},
   "outputs": [
    {
     "name": "stdout",
     "output_type": "stream",
     "text": [
      "File saved: monterrey_hourly_weather.csv\n",
      "File saved: amsterdam_hourly_weather.csv\n",
      "File saved: singapore_hourly_weather.csv\n"
     ]
    },
    {
     "name": "stderr",
     "output_type": "stream",
     "text": [
      "C:\\Users\\Gur Levy\\AppData\\Local\\Temp\\ipykernel_19596\\1580072142.py:40: DeprecationWarning: datetime.datetime.utcfromtimestamp() is deprecated and scheduled for removal in a future version. Use timezone-aware objects to represent datetimes in UTC: datetime.datetime.fromtimestamp(timestamp, datetime.UTC).\n",
      "  dt = datetime.utcfromtimestamp(entry['dt']) + timedelta(seconds=offset)\n"
     ]
    }
   ],
   "source": [
    "import requests\n",
    "import csv\n",
    "from datetime import datetime, timedelta\n",
    "\n",
    "# api endpoint and params\n",
    "API_KEY = 'd420319993e5906012bee411669261e0'\n",
    "API_URL = 'https://api.openweathermap.org/data/3.0/onecall'\n",
    "\n",
    "CITIES = {\n",
    "    'monterrey': {'lat': 25.6866, 'lon': -100.3161},\n",
    "    'amsterdam': {'lat': 52.3676, 'lon': 4.9041},\n",
    "    'singapore': {'lat': 1.3521, 'lon': 103.8198}\n",
    "}\n",
    "#api request\n",
    "def fetch_weather_data(city_name):\n",
    "    if city_name not in CITIES:\n",
    "        raise ValueError(f\"City '{city_name}' is not supported.\")\n",
    "    \n",
    "    coords = CITIES[city_name]\n",
    "    params = {\n",
    "        'lat': coords['lat'],\n",
    "        'lon': coords['lon'],\n",
    "        'exclude': 'current,minutely,daily,alerts',\n",
    "        'appid': API_KEY,\n",
    "        'units': 'metric'\n",
    "    }\n",
    "\n",
    "    response = requests.get(API_URL, params=params)\n",
    "    response.raise_for_status()\n",
    "    data = response.json()\n",
    "    #timezone offset\n",
    "    offset = data.get('timezone_offset', 0)\n",
    "    hourly_data = data.get('hourly', [])\n",
    "\n",
    "    csv_rows = []\n",
    "    header = ['datetime', 'temp', 'feels_like', 'pressure', 'humidity', 'dew_point',\n",
    "              'uvi', 'clouds', 'wind_speed', 'wind_deg', 'weather_description']\n",
    "    #changing to datetime\n",
    "    for entry in hourly_data:\n",
    "        dt = datetime.utcfromtimestamp(entry['dt']) + timedelta(seconds=offset)\n",
    "        weather_desc = entry.get('weather', [{}])[0].get('description', '')\n",
    "        row = [\n",
    "            dt.strftime(\"%Y-%m-%d %H:%M:%S\"),\n",
    "            entry.get(\"temp\"),\n",
    "            entry.get(\"feels_like\"),\n",
    "            entry.get(\"pressure\"),\n",
    "            entry.get(\"humidity\"),\n",
    "            entry.get(\"dew_point\"),\n",
    "            entry.get(\"uvi\"),\n",
    "            entry.get(\"clouds\"),\n",
    "            entry.get(\"wind_speed\"),\n",
    "            entry.get(\"wind_deg\"),\n",
    "            weather_desc\n",
    "        ]\n",
    "        csv_rows.append(row)\n",
    "    #csv save\n",
    "    csv_file = f'{city_name}_hourly_weather.csv'\n",
    "    with open(csv_file, 'w', newline='', encoding='utf-8') as f:\n",
    "        writer = csv.writer(f)\n",
    "        writer.writerow(header)\n",
    "        writer.writerows(csv_rows)\n",
    "\n",
    "    print(f'File saved: {csv_file}')\n",
    "\n",
    "fetch_weather_data(\"monterrey\")\n",
    "fetch_weather_data(\"amsterdam\")\n",
    "fetch_weather_data(\"singapore\")"
   ]
  },
  {
   "cell_type": "code",
   "execution_count": 24,
   "id": "fbb4713c",
   "metadata": {},
   "outputs": [
    {
     "name": "stderr",
     "output_type": "stream",
     "text": [
      "C:\\Users\\Gur Levy\\AppData\\Local\\Temp\\ipykernel_19596\\3070337885.py:36: DeprecationWarning: datetime.datetime.utcfromtimestamp() is deprecated and scheduled for removal in a future version. Use timezone-aware objects to represent datetimes in UTC: datetime.datetime.fromtimestamp(timestamp, datetime.UTC).\n",
      "  dt = datetime.utcfromtimestamp(entry['dt']) + timedelta(seconds=offset)\n",
      "C:\\Users\\Gur Levy\\AppData\\Local\\Temp\\ipykernel_19596\\3070337885.py:48: DeprecationWarning: datetime.datetime.utcnow() is deprecated and scheduled for removal in a future version. Use timezone-aware objects to represent datetimes in UTC: datetime.datetime.now(datetime.UTC).\n",
      "  date_str = (datetime.utcnow() + timedelta(days=i)).strftime('%Y-%m-%d')\n"
     ]
    },
    {
     "name": "stdout",
     "output_type": "stream",
     "text": [
      "UTCI input file saved for Monterrey: monterrey_utci_inputs.csv\n",
      "UTCI input file saved for Amsterdam: amsterdam_utci_inputs.csv\n",
      "UTCI input file saved for Singapore: singapore_utci_inputs.csv\n"
     ]
    }
   ],
   "source": [
    "import requests\n",
    "import csv\n",
    "from datetime import datetime, timedelta\n",
    "#location and api\n",
    "API_KEY = 'd420319993e5906012bee411669261e0'\n",
    "WEATHER_URL = 'https://api.openweathermap.org/data/3.0/onecall'\n",
    "SOLAR_URL = 'https://api.openweathermap.org/energy/1.0/solar/data'\n",
    "\n",
    "CITIES = {\n",
    "    'monterrey': {'lat': 25.686613, 'lon': -100.316116},\n",
    "    'amsterdam': {'lat': 52.3676, 'lon': 4.9041},\n",
    "    'singapore': {'lat': 1.3521, 'lon': 103.8198}\n",
    "}\n",
    "\n",
    "def fetch_utci_inputs(city):\n",
    "    if city not in CITIES:\n",
    "        raise ValueError(f\"City '{city}' is not supported.\")\n",
    "    \n",
    "    lat = CITIES[city]['lat']\n",
    "    lon = CITIES[city]['lon']\n",
    "\n",
    "    weather_params = {\n",
    "        'lat': lat,\n",
    "        'lon': lon,\n",
    "        'exclude': 'current,minutely,daily,alerts',\n",
    "        'appid': API_KEY,\n",
    "        'units': 'metric'\n",
    "    }\n",
    "\n",
    "    weather_response = requests.get(WEATHER_URL, params=weather_params)\n",
    "    weather_data = weather_response.json()\n",
    "    offset = weather_data.get('timezone_offset', 0)\n",
    "# hourly weather from One Call API\n",
    "    weather_by_hour = {}\n",
    "    for entry in weather_data.get('hourly', []):\n",
    "        dt = datetime.utcfromtimestamp(entry['dt']) + timedelta(seconds=offset)\n",
    "        dt_str = dt.strftime(\"%Y-%m-%d %H\")\n",
    "        weather_by_hour[dt_str] = {\n",
    "            'datetime': dt.strftime(\"%Y-%m-%d %H:%M:%S\"),\n",
    "            'temp': entry.get(\"temp\"),\n",
    "            'humidity': entry.get(\"humidity\"),\n",
    "            'wind_speed': entry.get(\"wind_speed\")\n",
    "        }\n",
    "\n",
    "    # solar data \n",
    "    solar_by_hour = {}\n",
    "    for i in range(7):\n",
    "        date_str = (datetime.utcnow() + timedelta(days=i)).strftime('%Y-%m-%d')\n",
    "        solar_params = {\n",
    "            'lat': lat,\n",
    "            'lon': lon,\n",
    "            'date': date_str,\n",
    "            'appid': API_KEY\n",
    "        }\n",
    "\n",
    "        solar_response = requests.get(SOLAR_URL, params=solar_params)\n",
    "        if solar_response.status_code == 200:\n",
    "            solar_data = solar_response.json()\n",
    "            for h in solar_data.get('irradiance', {}).get('hourly', []):\n",
    "                dt_str = f\"{date_str} {h['hour']:02}\"\n",
    "                solar_by_hour[dt_str] = h['clear_sky']['ghi']\n",
    "        else:\n",
    "            print(f\"[!] Solar API failed for {date_str} ({city}): {solar_response.status_code}\")\n",
    "\n",
    "    # merge and create final csv\n",
    "    final_rows = []\n",
    "    header = ['datetime', 'temp', 'humidity', 'wind_speed', 'solar_ghi']\n",
    "\n",
    "    for dt_hour, weather in weather_by_hour.items():\n",
    "        solar = solar_by_hour.get(dt_hour)\n",
    "        if solar is not None:\n",
    "            row = [\n",
    "                weather['datetime'],\n",
    "                weather['temp'],\n",
    "                weather['humidity'],\n",
    "                weather['wind_speed'],\n",
    "                solar\n",
    "            ]\n",
    "            final_rows.append(row)\n",
    "\n",
    "    output_file = f\"{city}_utci_inputs.csv\"\n",
    "    with open(output_file, 'w', newline='', encoding='utf-8') as f:\n",
    "        writer = csv.writer(f)\n",
    "        writer.writerow(header)\n",
    "        writer.writerows(final_rows)\n",
    "\n",
    "    print(f\"UTCI input file saved for {city.title()}: {output_file}\")\n",
    "\n",
    "fetch_utci_inputs(\"monterrey\")\n",
    "fetch_utci_inputs(\"amsterdam\")\n",
    "fetch_utci_inputs(\"singapore\")\n"
   ]
  },
  {
   "cell_type": "code",
   "execution_count": null,
   "id": "4066e56a",
   "metadata": {},
   "outputs": [
    {
     "name": "stderr",
     "output_type": "stream",
     "text": [
      "C:\\Users\\Gur Levy\\AppData\\Local\\Temp\\ipykernel_19596\\2850617802.py:38: DeprecationWarning: datetime.datetime.utcfromtimestamp() is deprecated and scheduled for removal in a future version. Use timezone-aware objects to represent datetimes in UTC: datetime.datetime.fromtimestamp(timestamp, datetime.UTC).\n",
      "  dt = datetime.utcfromtimestamp(entry['dt']) + timedelta(seconds=offset)\n",
      "C:\\Users\\Gur Levy\\AppData\\Local\\Temp\\ipykernel_19596\\2850617802.py:50: DeprecationWarning: datetime.datetime.utcnow() is deprecated and scheduled for removal in a future version. Use timezone-aware objects to represent datetimes in UTC: datetime.datetime.now(datetime.UTC).\n",
      "  date_str = (datetime.utcnow() + timedelta(days=i)).strftime('%Y-%m-%d')\n"
     ]
    },
    {
     "name": "stdout",
     "output_type": "stream",
     "text": [
      "✅ Saved: monterrey_utci_inputs.csv\n",
      "✅ Saved: amsterdam_utci_inputs.csv\n",
      "✅ Saved: singapore_utci_inputs.csv\n"
     ]
    }
   ],
   "source": [
    "import requests\n",
    "import csv\n",
    "from datetime import datetime, timedelta\n",
    "\n",
    "API_KEY = 'd420319993e5906012bee411669261e0'\n",
    "WEATHER_URL = 'https://api.openweathermap.org/data/3.0/onecall'\n",
    "SOLAR_URL = 'https://api.openweathermap.org/energy/1.0/solar/data'\n",
    "\n",
    "CITIES = {\n",
    "    'monterrey': {'lat': 25.686613, 'lon': -100.316116},\n",
    "    'amsterdam': {'lat': 52.3676, 'lon': 4.9041},\n",
    "    'singapore': {'lat': 1.3521, 'lon': 103.8198}\n",
    "}\n",
    "\n",
    "def fetch_utci_inputs(city):\n",
    "    if city not in CITIES:\n",
    "        raise ValueError(f\"City '{city}' not in list.\")\n",
    "    \n",
    "    lat = CITIES[city]['lat']\n",
    "    lon = CITIES[city]['lon']\n",
    "\n",
    "    # --- Weather request ---\n",
    "    weather_params = {\n",
    "        'lat': lat,\n",
    "        'lon': lon,\n",
    "        'exclude': 'current,minutely,daily,alerts',\n",
    "        'appid': API_KEY,\n",
    "        'units': 'metric'\n",
    "    }\n",
    "    response = requests.get(WEATHER_URL, params=weather_params)\n",
    "    response.raise_for_status()\n",
    "    weather_data = response.json()\n",
    "\n",
    "    offset = weather_data.get('timezone_offset', 0)\n",
    "    weather_by_hour = {}\n",
    "\n",
    "    for entry in weather_data.get('hourly', []):\n",
    "        dt = datetime.utcfromtimestamp(entry['dt']) + timedelta(seconds=offset)\n",
    "        dt_str = dt.strftime(\"%Y-%m-%d %H\")\n",
    "        weather_by_hour[dt_str] = {\n",
    "            'datetime': dt.strftime(\"%Y-%m-%d %H:%M:%S\"),\n",
    "            'temp': entry.get(\"temp\"),\n",
    "            'humidity': entry.get(\"humidity\"),\n",
    "            'wind_speed': entry.get(\"wind_speed\")\n",
    "        }\n",
    "\n",
    "    # --- Solar request ---\n",
    "    solar_by_hour = {}\n",
    "    for i in range(3):  # only 3 days needed to cover any gaps\n",
    "        date_str = (datetime.utcnow() + timedelta(days=i)).strftime('%Y-%m-%d')\n",
    "        solar_params = {\n",
    "            'lat': lat,\n",
    "            'lon': lon,\n",
    "            'date': date_str,\n",
    "            'appid': API_KEY\n",
    "        }\n",
    "        solar_resp = requests.get(SOLAR_URL, params=solar_params)\n",
    "        if solar_resp.status_code == 200:\n",
    "            solar_data = solar_resp.json()\n",
    "            for h in solar_data.get('irradiance', {}).get('hourly', []):\n",
    "                dt_str = f\"{date_str} {h['hour']:02}\"\n",
    "                solar_by_hour[dt_str] = h['clear_sky']['ghi']\n",
    "        else:\n",
    "            print(f\"[!] Solar API failed for {date_str}: {solar_resp.status_code}\")\n",
    "\n",
    "    # --- Merge ---\n",
    "    final_rows = []\n",
    "    header = ['datetime', 'temp', 'humidity', 'wind_speed', 'solar_ghi']\n",
    "\n",
    "    for dt_hour, weather in weather_by_hour.items():\n",
    "        solar = solar_by_hour.get(dt_hour)\n",
    "        if solar is not None:\n",
    "            final_rows.append([\n",
    "                weather['datetime'],\n",
    "                weather['temp'],\n",
    "                weather['humidity'],\n",
    "                weather['wind_speed'],\n",
    "                solar\n",
    "            ])\n",
    "\n",
    "    # --- Save ---\n",
    "    out_file = f\"{city}_utci_inputs.csv\"\n",
    "    with open(out_file, 'w', newline='', encoding='utf-8') as f:\n",
    "        writer = csv.writer(f)\n",
    "        writer.writerow(header)\n",
    "        writer.writerows(final_rows)\n",
    "\n",
    "    print(f\" Saved: {out_file}\")\n",
    "\n",
    "# Run for all cities\n",
    "for city in CITIES:\n",
    "    fetch_utci_inputs(city)\n"
   ]
  },
  {
   "cell_type": "code",
   "execution_count": 26,
   "id": "15fe7da0",
   "metadata": {},
   "outputs": [
    {
     "name": "stdout",
     "output_type": "stream",
     "text": [
      "Requirement already satisfied: pandas in c:\\users\\gur levy\\heinecan-4\\.venv\\lib\\site-packages (2.2.3)\n",
      "Requirement already satisfied: numpy>=1.26.0 in c:\\users\\gur levy\\heinecan-4\\.venv\\lib\\site-packages (from pandas) (2.2.5)\n",
      "Requirement already satisfied: python-dateutil>=2.8.2 in c:\\users\\gur levy\\heinecan-4\\.venv\\lib\\site-packages (from pandas) (2.9.0.post0)\n",
      "Requirement already satisfied: pytz>=2020.1 in c:\\users\\gur levy\\heinecan-4\\.venv\\lib\\site-packages (from pandas) (2025.2)\n",
      "Requirement already satisfied: tzdata>=2022.7 in c:\\users\\gur levy\\heinecan-4\\.venv\\lib\\site-packages (from pandas) (2025.2)\n",
      "Requirement already satisfied: six>=1.5 in c:\\users\\gur levy\\heinecan-4\\.venv\\lib\\site-packages (from python-dateutil>=2.8.2->pandas) (1.17.0)\n"
     ]
    }
   ],
   "source": [
    "!pip install pandas"
   ]
  },
  {
   "cell_type": "code",
   "execution_count": 27,
   "id": "a9f65546",
   "metadata": {},
   "outputs": [
    {
     "name": "stdout",
     "output_type": "stream",
     "text": [
      "UTCI results saved for Monterrey: monterrey_utci_results.csv\n",
      "UTCI results saved for Amsterdam: amsterdam_utci_results.csv\n",
      "UTCI results saved for Singapore: singapore_utci_results.csv\n"
     ]
    }
   ],
   "source": [
    "import pandas as pd\n",
    "import numpy as np\n",
    "\n",
    "def compute_utci(city):\n",
    "    input_file = f\"{city}_utci_inputs.csv\"\n",
    "    output_file = f\"{city}_utci_results.csv\"\n",
    "    \n",
    "    df = pd.read_csv(input_file)\n",
    "\n",
    "    # Estimate MRT (Mean Radiant Temperature)\n",
    "    df['mrt'] = df['temp'] + 0.03 * df['solar_ghi']\n",
    "\n",
    "    # Water vapor pressure using Tetens formula (converted to kPa)\n",
    "    es = 6.112 * np.exp((17.67 * df['temp']) / (df['temp'] + 243.5))  # hPa\n",
    "    df['pa'] = (es * df['humidity'] / 100) / 10  # convert hPa to kPa\n",
    "\n",
    "    # Empirical UTCI approximation (Bröde et al., 2012)\n",
    "    df['utci'] = (\n",
    "        0.6076 +\n",
    "        0.9772 * df['temp'] +\n",
    "        -2.2584 * df['wind_speed'] +\n",
    "        0.3984 * (df['mrt'] - df['temp']) +\n",
    "        5.1273 * df['pa']\n",
    "    )\n",
    "\n",
    "    df.to_csv(output_file, index=False)\n",
    "    print(f\"UTCI results saved for {city.title()}: {output_file}\")\n",
    "\n",
    "compute_utci(\"monterrey\")\n",
    "compute_utci(\"amsterdam\")\n",
    "compute_utci(\"singapore\")\n"
   ]
  },
  {
   "cell_type": "code",
   "execution_count": 28,
   "id": "afedebe3",
   "metadata": {},
   "outputs": [],
   "source": [
    "## utci_scores, sperate working hours (8-18), and calculate avrg, dropdown of graphs"
   ]
  },
  {
   "cell_type": "code",
   "execution_count": 29,
   "id": "09368c95",
   "metadata": {},
   "outputs": [
    {
     "name": "stdout",
     "output_type": "stream",
     "text": [
      " Heat risk scores added: monterrey_utci_with_measures.csv\n",
      " Heat risk scores added: amsterdam_utci_with_measures.csv\n",
      " Heat risk scores added: singapore_utci_with_measures.csv\n"
     ]
    }
   ],
   "source": [
    "import pandas as pd\n",
    "# UTCI score\n",
    "def classify_utci(utci_value):\n",
    "    if utci_value <= 26:\n",
    "        return \"1\"  # None\n",
    "    elif utci_value <= 32:\n",
    "        return \"2\"  # Moderate\n",
    "    elif utci_value <= 38:\n",
    "        return \"3\"  # Strong\n",
    "    elif utci_value <= 46:\n",
    "        return \"4\"  # Very Strong\n",
    "    else:\n",
    "        return \"5\"  # Extreme\n",
    "\n",
    "def add_heat_risk_score(city):\n",
    "    input_file = f\"{city}_utci_results.csv\"\n",
    "    output_file = f\"{city}_utci_with_measures.csv\"\n",
    "\n",
    "    df = pd.read_csv(input_file)\n",
    "    df['heat_risk_score'] = df['utci'].apply(classify_utci)\n",
    "    df.to_csv(output_file, index=False)\n",
    "\n",
    "    print(f\" Heat risk scores added: {output_file}\")\n",
    "\n",
    "for city in ['monterrey', 'amsterdam', 'singapore']:\n",
    "    add_heat_risk_score(city)\n"
   ]
  },
  {
   "cell_type": "code",
   "execution_count": 30,
   "id": "2b2e2b85",
   "metadata": {},
   "outputs": [
    {
     "name": "stdout",
     "output_type": "stream",
     "text": [
      "Shift labels added for Monterrey: monterrey_utci_with_measures.csv\n",
      "Shift labels added for Amsterdam: amsterdam_utci_with_measures.csv\n",
      "Shift labels added for Singapore: singapore_utci_with_measures.csv\n"
     ]
    }
   ],
   "source": [
    "import pandas as pd\n",
    "\n",
    "def label_shift(city):\n",
    "    file = f\"{city}_utci_with_measures.csv\"\n",
    "    df = pd.read_csv(file)\n",
    "\n",
    "    df['datetime'] = pd.to_datetime(df['datetime'])\n",
    "    df['shift'] = df['datetime'].apply(lambda dt: 1 if 8 <= dt.hour < 18 else 0)\n",
    "\n",
    "    df.to_csv(file, index=False)\n",
    "    print(f\"Shift labels added for {city.title()}: {file}\")\n",
    "    return df.head()\n",
    "\n",
    "for city in ['monterrey', 'amsterdam', 'singapore']:\n",
    "    label_shift(city)\n"
   ]
  },
  {
   "cell_type": "code",
   "execution_count": 31,
   "id": "116efb9a",
   "metadata": {},
   "outputs": [
    {
     "name": "stdout",
     "output_type": "stream",
     "text": [
      "Measures merged for Monterrey: monterrey_utci_with_measures.csv\n",
      "Measures merged for Amsterdam: amsterdam_utci_with_measures.csv\n",
      "Measures merged for Singapore: singapore_utci_with_measures.csv\n"
     ]
    }
   ],
   "source": [
    "import pandas as pd\n",
    "\n",
    "def merge_with_measures(city):\n",
    "    utci_file = f\"{city}_utci_with_measures.csv\"\n",
    "    measures_file = \"heat_risk_database.csv\"\n",
    "\n",
    "    df = pd.read_csv(utci_file)\n",
    "    df_measures = pd.read_csv(measures_file)\n",
    "\n",
    "    # Ensure score is integer for merge\n",
    "    df['heat_risk_score'] = df['heat_risk_score'].astype(int)\n",
    "\n",
    "    merged_df = pd.merge(df, df_measures, left_on='heat_risk_score', right_on='Heat_Risk_Score', how='left')\n",
    "\n",
    "    merged_df.to_csv(utci_file, index=False)\n",
    "    print(f\"Measures merged for {city.title()}: {utci_file}\")\n",
    "\n",
    "merge_with_measures(\"monterrey\")\n",
    "merge_with_measures(\"amsterdam\")\n",
    "merge_with_measures(\"singapore\")\n"
   ]
  },
  {
   "cell_type": "code",
   "execution_count": null,
   "id": "2b7999d8",
   "metadata": {},
   "outputs": [],
   "source": []
  }
 ],
 "metadata": {
  "kernelspec": {
   "display_name": ".venv",
   "language": "python",
   "name": "python3"
  },
  "language_info": {
   "codemirror_mode": {
    "name": "ipython",
    "version": 3
   },
   "file_extension": ".py",
   "mimetype": "text/x-python",
   "name": "python",
   "nbconvert_exporter": "python",
   "pygments_lexer": "ipython3",
   "version": "3.13.2"
  }
 },
 "nbformat": 4,
 "nbformat_minor": 5
}
