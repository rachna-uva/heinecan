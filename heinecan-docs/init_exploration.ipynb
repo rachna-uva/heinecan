{
 "cells": [
  {
   "cell_type": "code",
   "execution_count": 4,
   "id": "d5ba0bff-1f02-482b-be36-7865db3d6888",
   "metadata": {},
   "outputs": [],
   "source": [
    "import rioxarray as rxr\n",
    "import dask.array as da\n",
    "import rasterio\n",
    "import csv\n",
    "import os\n",
    "import geopandas as gpd\n",
    "import numpy as np\n",
    "import pandas as pd\n",
    "import matplotlib.pyplot as plt"
   ]
  },
  {
   "cell_type": "code",
   "execution_count": 3,
   "id": "d5ce241e-d838-493d-a856-728d3eb5bbc9",
   "metadata": {},
   "outputs": [
    {
     "ename": "Exception",
     "evalue": "Missing/incomplete configuration file: C:\\Users\\rachn/.cdsapirc",
     "output_type": "error",
     "traceback": [
      "\u001b[1;31m---------------------------------------------------------------------------\u001b[0m",
      "\u001b[1;31mException\u001b[0m                                 Traceback (most recent call last)",
      "Cell \u001b[1;32mIn[3], line 33\u001b[0m\n\u001b[0;32m      3\u001b[0m dataset \u001b[38;5;241m=\u001b[39m \u001b[38;5;124m\"\u001b[39m\u001b[38;5;124mderived-utci-historical\u001b[39m\u001b[38;5;124m\"\u001b[39m\n\u001b[0;32m      4\u001b[0m request \u001b[38;5;241m=\u001b[39m {\n\u001b[0;32m      5\u001b[0m     \u001b[38;5;124m\"\u001b[39m\u001b[38;5;124mvariable\u001b[39m\u001b[38;5;124m\"\u001b[39m: [\n\u001b[0;32m      6\u001b[0m         \u001b[38;5;124m\"\u001b[39m\u001b[38;5;124muniversal_thermal_climate_index\u001b[39m\u001b[38;5;124m\"\u001b[39m,\n\u001b[1;32m   (...)\u001b[0m\n\u001b[0;32m     30\u001b[0m     ]\n\u001b[0;32m     31\u001b[0m }\n\u001b[1;32m---> 33\u001b[0m client \u001b[38;5;241m=\u001b[39m \u001b[43mcdsapi\u001b[49m\u001b[38;5;241;43m.\u001b[39;49m\u001b[43mClient\u001b[49m\u001b[43m(\u001b[49m\u001b[43m)\u001b[49m\n\u001b[0;32m     34\u001b[0m client\u001b[38;5;241m.\u001b[39mretrieve(dataset, request)\u001b[38;5;241m.\u001b[39mdownload()\n",
      "File \u001b[1;32m~\\anaconda3\\Lib\\site-packages\\cdsapi\\api.py:281\u001b[0m, in \u001b[0;36mClient.__new__\u001b[1;34m(cls, url, key, *args, **kwargs)\u001b[0m\n\u001b[0;32m    280\u001b[0m \u001b[38;5;28;01mdef\u001b[39;00m \u001b[38;5;21m__new__\u001b[39m(\u001b[38;5;28mcls\u001b[39m, url\u001b[38;5;241m=\u001b[39m\u001b[38;5;28;01mNone\u001b[39;00m, key\u001b[38;5;241m=\u001b[39m\u001b[38;5;28;01mNone\u001b[39;00m, \u001b[38;5;241m*\u001b[39margs, \u001b[38;5;241m*\u001b[39m\u001b[38;5;241m*\u001b[39mkwargs):\n\u001b[1;32m--> 281\u001b[0m     _, token, _ \u001b[38;5;241m=\u001b[39m \u001b[43mget_url_key_verify\u001b[49m\u001b[43m(\u001b[49m\u001b[43murl\u001b[49m\u001b[43m,\u001b[49m\u001b[43m \u001b[49m\u001b[43mkey\u001b[49m\u001b[43m,\u001b[49m\u001b[43m \u001b[49m\u001b[38;5;28;43;01mNone\u001b[39;49;00m\u001b[43m)\u001b[49m\n\u001b[0;32m    282\u001b[0m     \u001b[38;5;28;01mif\u001b[39;00m \u001b[38;5;124m\"\u001b[39m\u001b[38;5;124m:\u001b[39m\u001b[38;5;124m\"\u001b[39m \u001b[38;5;129;01min\u001b[39;00m token:\n\u001b[0;32m    283\u001b[0m         \u001b[38;5;28;01mreturn\u001b[39;00m \u001b[38;5;28msuper\u001b[39m()\u001b[38;5;241m.\u001b[39m\u001b[38;5;21m__new__\u001b[39m(\u001b[38;5;28mcls\u001b[39m)\n",
      "File \u001b[1;32m~\\anaconda3\\Lib\\site-packages\\cdsapi\\api.py:69\u001b[0m, in \u001b[0;36mget_url_key_verify\u001b[1;34m(url, key, verify)\u001b[0m\n\u001b[0;32m     66\u001b[0m             verify \u001b[38;5;241m=\u001b[39m \u001b[38;5;28mbool\u001b[39m(\u001b[38;5;28mint\u001b[39m(config\u001b[38;5;241m.\u001b[39mget(\u001b[38;5;124m\"\u001b[39m\u001b[38;5;124mverify\u001b[39m\u001b[38;5;124m\"\u001b[39m, \u001b[38;5;241m1\u001b[39m)))\n\u001b[0;32m     68\u001b[0m \u001b[38;5;28;01mif\u001b[39;00m url \u001b[38;5;129;01mis\u001b[39;00m \u001b[38;5;28;01mNone\u001b[39;00m \u001b[38;5;129;01mor\u001b[39;00m key \u001b[38;5;129;01mis\u001b[39;00m \u001b[38;5;28;01mNone\u001b[39;00m \u001b[38;5;129;01mor\u001b[39;00m key \u001b[38;5;129;01mis\u001b[39;00m \u001b[38;5;28;01mNone\u001b[39;00m:\n\u001b[1;32m---> 69\u001b[0m     \u001b[38;5;28;01mraise\u001b[39;00m \u001b[38;5;167;01mException\u001b[39;00m(\u001b[38;5;124m\"\u001b[39m\u001b[38;5;124mMissing/incomplete configuration file: \u001b[39m\u001b[38;5;132;01m%s\u001b[39;00m\u001b[38;5;124m\"\u001b[39m \u001b[38;5;241m%\u001b[39m (dotrc))\n\u001b[0;32m     71\u001b[0m \u001b[38;5;66;03m# If verify is still None, then we set to default value of True\u001b[39;00m\n\u001b[0;32m     72\u001b[0m \u001b[38;5;28;01mif\u001b[39;00m verify \u001b[38;5;129;01mis\u001b[39;00m \u001b[38;5;28;01mNone\u001b[39;00m:\n",
      "\u001b[1;31mException\u001b[0m: Missing/incomplete configuration file: C:\\Users\\rachn/.cdsapirc"
     ]
    }
   ],
   "source": [
    "import cdsapi\n",
    "\n",
    "dataset = \"derived-utci-historical\"\n",
    "request = {\n",
    "    \"variable\": [\n",
    "        \"universal_thermal_climate_index\",\n",
    "        \"mean_radiant_temperature\"\n",
    "    ],\n",
    "    \"version\": \"1_1\",\n",
    "    \"product_type\": \"intermediate_dataset\",\n",
    "    \"year\": [\"2019\", \"2020\"],\n",
    "    \"month\": [\n",
    "        \"01\", \"02\", \"03\",\n",
    "        \"04\", \"05\", \"06\",\n",
    "        \"07\", \"08\", \"09\",\n",
    "        \"10\", \"11\", \"12\"\n",
    "    ],\n",
    "    \"day\": [\n",
    "        \"01\", \"02\", \"03\",\n",
    "        \"04\", \"05\", \"06\",\n",
    "        \"07\", \"08\", \"09\",\n",
    "        \"10\", \"11\", \"12\",\n",
    "        \"13\", \"14\", \"15\",\n",
    "        \"16\", \"17\", \"18\",\n",
    "        \"19\", \"20\", \"21\",\n",
    "        \"22\", \"23\", \"24\",\n",
    "        \"25\", \"26\", \"27\",\n",
    "        \"28\", \"29\", \"30\",\n",
    "        \"31\"\n",
    "    ]\n",
    "}\n",
    "\n",
    "client = cdsapi.Client()\n",
    "client.retrieve(dataset, request).download()\n"
   ]
  },
  {
   "cell_type": "code",
   "execution_count": null,
   "id": "1fda54e6-03a3-4965-bf2b-4fa4c4affe2e",
   "metadata": {},
   "outputs": [],
   "source": [
    "# Load the .tif file directly\n",
    "input_tif = \"GloUTCI-M_YEAR_2000_MONTH_03.tif\"  # Change this to your file path\n",
    "output_csv = \"processed_data.csv\"\n",
    "temp_csv = \"temp_data.csv\"  # Temporary file to avoid memory overflow\n",
    "\n",
    "# Open raster file efficiently\n",
    "with rasterio.open(input_tif) as dataset:\n",
    "    transform = dataset.transform  # Affine transform (for geo-coordinates)\n",
    "    height, width = dataset.height, dataset.width  # Get raster dimensions\n",
    "    chunk_size = 100  # Process only 100 rows at a time to minimize memory usage\n",
    "\n",
    "    # Remove old temp file if it exists\n",
    "    if os.path.exists(temp_csv):\n",
    "        os.remove(temp_csv)\n",
    "\n",
    "    # Open CSV for writing (streaming mode)\n",
    "    with open(temp_csv, \"w\", newline=\"\") as f:\n",
    "        writer = csv.writer(f)\n",
    "        writer.writerow([\"longitude\", \"latitude\", \"utci\"])  # Column headers\n",
    "\n",
    "        # Process in ultra-small chunks to prevent crashes\n",
    "        for row_start in range(0, height, chunk_size):\n",
    "            row_end = min(row_start + chunk_size, height)  # Don't exceed height\n",
    "\n",
    "            # Read only a small section of the raster\n",
    "            band1 = dataset.read(1, window=((row_start, row_end), (0, width)))\n",
    "            band1 = band1.astype(np.float32) / 100  # Apply scaling\n",
    "\n",
    "            # Generate latitude/longitude for this small section\n",
    "            rows, cols = np.meshgrid(\n",
    "                np.arange(row_start, row_end),\n",
    "                np.arange(width),\n",
    "                indexing=\"ij\"\n",
    "            )\n",
    "            xs, ys = rasterio.transform.xy(transform, rows, cols)\n",
    "\n",
    "            # Write data to CSV row-by-row\n",
    "            for x, y, value in zip(xs.flatten(), ys.flatten(), band1.flatten()):\n",
    "                writer.writerow([x, y, value])\n",
    "\n",
    "# Move processed file to final location\n",
    "os.rename(temp_csv, output_csv)\n",
    "\n",
    "print(f\"Processing complete! Data saved to {output_csv}\")"
   ]
  },
  {
   "cell_type": "code",
   "execution_count": null,
   "id": "985c912c-d886-41c4-aeda-0101e71b1f0e",
   "metadata": {},
   "outputs": [],
   "source": []
  }
 ],
 "metadata": {
  "kernelspec": {
   "display_name": "Python 3 (ipykernel)",
   "language": "python",
   "name": "python3"
  },
  "language_info": {
   "codemirror_mode": {
    "name": "ipython",
    "version": 3
   },
   "file_extension": ".py",
   "mimetype": "text/x-python",
   "name": "python",
   "nbconvert_exporter": "python",
   "pygments_lexer": "ipython3",
   "version": "3.11.7"
  }
 },
 "nbformat": 4,
 "nbformat_minor": 5
}
